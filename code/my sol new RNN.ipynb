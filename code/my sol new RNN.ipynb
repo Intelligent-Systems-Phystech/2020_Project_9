{
 "cells": [
  {
   "cell_type": "code",
   "execution_count": 1,
   "metadata": {},
   "outputs": [],
   "source": [
    "import pickle\n",
    "import numpy as np\n",
    "import matplotlib.pyplot as plt\n",
    "import pandas as pd\n",
    "import torch\n",
    "import os\n",
    "from skimage import io, transform\n",
    "from torch.utils.data import Dataset, DataLoader\n",
    "from torchvision import transforms, utils\n",
    "from torch.nn import MSELoss, Sequential, Linear, Sigmoid, Tanh, ReLU, ELU, Softmax\n",
    "import torch.nn.functional as F\n",
    "import torch.nn as nn\n",
    "from torch import Tensor\n",
    "from tqdm import tqdm\n",
    "from sklearn.metrics import accuracy_score\n",
    "import torch.optim as optim\n",
    "from sklearn.preprocessing import MinMaxScaler\n",
    "from torch.nn.utils import clip_grad_norm_\n",
    "import random\n",
    "import matplotlib.ticker as ticker\n",
    "from my_sol_new_RNN_helper import *\n",
    "%matplotlib inline"
   ]
  },
  {
   "cell_type": "raw",
   "metadata": {},
   "source": [
    "with open ('graph2vec/data/train_graphs', 'rb') as fp:\n",
    "    graphs = pickle.load(fp)"
   ]
  },
  {
   "cell_type": "code",
   "execution_count": 2,
   "metadata": {},
   "outputs": [],
   "source": [
    "class graph_RNN_first_ed(nn.Module):\n",
    "    def __init__(self, input_size, output_size, depth, description_node = False):\n",
    "        super(graph_RNN_first_ed, self).__init__()\n",
    "        \n",
    "        self.output_size = output_size\n",
    "        self.depth = depth\n",
    "        self.d_n = description_node\n",
    "        \n",
    "        self.prep = nn.Linear(input_size, output_size)\n",
    "        self.conv = nn.Linear(output_size + input_size, output_size) if self.\\\n",
    "                                            d_n else nn.Linear(output_size, output_size)\n",
    "\n",
    "    def forward(self, nodes, matrix):\n",
    "        output = self.prep(nodes)\n",
    "        \n",
    "        for _ in range(self.depth):\n",
    "            output = torch.cat((output, nodes), 1) if self.d_n else output\n",
    "            output = torch.mm(matrix, output)\n",
    "            output = self.conv(output)\n",
    "            output = torch.sigmoid(output)\n",
    "            \n",
    "        return output"
   ]
  },
  {
   "cell_type": "code",
   "execution_count": 113,
   "metadata": {},
   "outputs": [],
   "source": [
    "class graph_RNN_second_ed(nn.Module):\n",
    "    def __init__(self, input_size, hidden_size, output_size, depth, description_node = False):\n",
    "        super(graph_RNN_second_ed, self).__init__()\n",
    "        \n",
    "        self.output_size = output_size\n",
    "        self.depth = depth\n",
    "        self.d_n = description_node\n",
    "        \n",
    "        self.prep = nn.Linear(input_size, output_size)\n",
    "        self.conv_other = nn.Linear(output_size + input_size, output_size - hidden_size) if self.\\\n",
    "                                            d_n else nn.Linear(output_size, output_size - hidden_size)\n",
    "        self.conv_this = nn.Linear(output_size + input_size, hidden_size) if self.\\\n",
    "                                            d_n else nn.Linear(output_size, hidden_size)\n",
    "        \n",
    "        self.ReLU = nn.ReLU()\n",
    "\n",
    "    def forward(self, nodes, neighbors):\n",
    "        output = self.prep(nodes)\n",
    "        \n",
    "        for _ in range(self.depth):\n",
    "            output = torch.cat((output, nodes), 1) if self.d_n else output\n",
    "            nei = self.ReLU(self.conv_other(output))\n",
    "            \n",
    "            neighbors_tensor = None\n",
    "            for i in neighbors:\n",
    "                if neighbors_tensor is None:\n",
    "                    neighbors_tensor = nei[i].mean(0)\n",
    "                else:\n",
    "                    neighbors_tensor = torch.cat([neighbors_tensor, nei[i].mean(0)], 0)\n",
    "            neighbors_tensor = neighbors_tensor.reshape_as(nei)\n",
    "            \n",
    "            \n",
    "            output = torch.cat((self.conv_this(output), neighbors_tensor), 1)\n",
    "            output = self.ReLU(output)\n",
    "            \n",
    "        return output"
   ]
  },
  {
   "cell_type": "code",
   "execution_count": 4,
   "metadata": {},
   "outputs": [],
   "source": [
    "class graph2vec(nn.Module):\n",
    "    \n",
    "    def __init__(self, n_categories, depth, num_eigenvectors, rnn_hidden, net_hidden, num_features = 4, \n",
    "                 num_classes = 10, center_eigenvectors = True, description_node = False, abs_eigenvectors = True):\n",
    "        super(graph2vec, self).__init__()\n",
    "#         self.rnn = graph_RNN_first_ed(num_features, n_categories, depth, description_node = description_node)\n",
    "        self.rnn = graph_RNN_second_ed(num_features, rnn_hidden, n_categories, depth, description_node = description_node)\n",
    "        self.num_eigenvectors = num_eigenvectors\n",
    "        self.net = FCNet(n_categories * num_eigenvectors, net_hidden, num_classes)\n",
    "        self.center_eigenvectors = center_eigenvectors\n",
    "        self.abs_eigenvectors = abs_eigenvectors\n",
    "        \n",
    "    def forward(self, nodes, neighbors):\n",
    "        output = self.rnn.forward(nodes, neighbors)\n",
    "        \n",
    "        n = PCA_svd(output, g2v.num_eigenvectors, center=self.center_eigenvectors)#['components']\n",
    "        if self.abs_eigenvectors:\n",
    "            com, expv = n['components'], n['explained_variance']\n",
    "            n = torch.mul(expv, com.t()).t()\n",
    "        else:\n",
    "            n = n['components']\n",
    "        out = self.net.forward(n.reshape((1, -1)).float())\n",
    "        return out\n",
    "    \n",
    "    def test(self, nodes, matrix):\n",
    "        with torch.no_grad():\n",
    "            output = self.rnn.forward(nodes, matrix)\n",
    "\n",
    "            n = PCA_svd(output, g2v.num_eigenvectors, center=self.center_eigenvectors)#['components']\n",
    "            if self.abs_eigenvectors:\n",
    "                com, expv = n['components'], n['explained_variance']\n",
    "                n = torch.mul(expv, com.t()).t()\n",
    "            else:\n",
    "                n = n['components']\n",
    "            out = self.net.forward(n.reshape((1, -1)).float())\n",
    "        return out"
   ]
  },
  {
   "cell_type": "code",
   "execution_count": 78,
   "metadata": {},
   "outputs": [],
   "source": [
    "class graph2vec_next(nn.Module):\n",
    "    \n",
    "    def __init__(self, rnn, n_categories, num_classes = 10):\n",
    "        super(graph2vec_next, self).__init__()\n",
    "        self.rnn = rnn\n",
    "        self.without_PCA_linear = nn.Linear(n_categories, num_classes)\n",
    "        self.softmax = nn.LogSoftmax(dim=1)\n",
    "        \n",
    "    def forward(self, nodes, matrix):\n",
    "        output = self.rnn.forward(nodes, matrix)\n",
    "        \n",
    "        x = torch.mm(output.type_as(self.PCA_substitute), self.PCA_substitute).mean(0)\n",
    "        x = self.without_PCA_linear(x.float()).reshape((-1, 10))\n",
    "        return self.softmax(x)\n",
    "    \n",
    "    def test(self, nodes, matrix):\n",
    "        with torch.no_grad():\n",
    "            output = self.rnn.forward(nodes, matrix)\n",
    "\n",
    "            x = torch.mm(output.type_as(self.PCA_substitute), self.PCA_substitute).mean(0)\n",
    "            x = self.without_PCA_linear(x.float()).reshape((-1, 10))\n",
    "            out = self.softmax(x)\n",
    "        return out"
   ]
  },
  {
   "cell_type": "code",
   "execution_count": 6,
   "metadata": {},
   "outputs": [],
   "source": [
    "def get_eigenvectors(model, train_dataset, n_categories, counter):\n",
    "    evg_vectors = [torch.zeros((model.num_eigenvectors, n_categories), \n",
    "                                       dtype=torch.float64)] * 10\n",
    "    with torch.no_grad():\n",
    "        for indx in range(len(train_dataset)):\n",
    "            node, matrix, clas = train_dataset.__getitem__(indx)\n",
    "            if len(node) <= 5:\n",
    "                continue\n",
    "                \n",
    "            output = self.rnn.forward(nodes, matrix)\n",
    "\n",
    "            n = PCA_svd(output, model.num_eigenvectors, center=True)#['components']\n",
    "            com, expv = n['components'], n['explained_variance']\n",
    "            n = torch.mul(expv, com.t()).t()\n",
    "            \n",
    "            evg_vectors[l] = evg_vectors[l] + n\n",
    "        for i, coun in enumerate(counter):\n",
    "            evg_vectors[i] = evg_vectors[i] / coun\n",
    "    \n",
    "    PCA_substitute = torch.cat(evg_vectors, 0)\n",
    "    PCA_substitute.requires_grad_(requires_grad = False)\n",
    "    return PCA_substitute"
   ]
  },
  {
   "cell_type": "code",
   "execution_count": 7,
   "metadata": {
    "scrolled": true
   },
   "outputs": [],
   "source": [
    "train_dataset = GraphEmbDataset(graph_file='graph2vec/data/train_graphs')"
   ]
  },
  {
   "cell_type": "markdown",
   "metadata": {},
   "source": [
    "## Распределение по классам"
   ]
  },
  {
   "cell_type": "code",
   "execution_count": 30,
   "metadata": {
    "scrolled": false
   },
   "outputs": [
    {
     "data": {
      "text/plain": [
       "<matplotlib.collections.PathCollection at 0x7f65406f4470>"
      ]
     },
     "execution_count": 30,
     "metadata": {},
     "output_type": "execute_result"
    },
    {
     "data": {
      "image/png": "[encoded data removed]",
      "text/plain": [
       "<Figure size 432x288 with 1 Axes>"
      ]
     },
     "metadata": {
      "needs_background": "light"
     },
     "output_type": "display_data"
    }
   ],
   "source": [
    "counter = np.zeros(10)\n",
    "for i in range(len(train_dataset)):\n",
    "    out_1 = train_dataset.__getitem__(i)\n",
    "    if len(out_1[0]) > 5:\n",
    "        counter[out_1[2]] +=1\n",
    "\n",
    "plt.scatter(y = counter, x = np.arange(10))"
   ]
  },
  {
   "cell_type": "code",
   "execution_count": 40,
   "metadata": {},
   "outputs": [],
   "source": [
    "batch_size = 64\n",
    "num_neighbors = 3\n",
    "n_categories = 30\n",
    "num_eigenvectors = 3\n",
    "net_hidden = 20\n",
    "rnn_hidden = 10\n",
    "# grads = [[]] * 8"
   ]
  },
  {
   "cell_type": "markdown",
   "metadata": {},
   "source": [
    "##  центрир_векоторов, нет  домнож на СЧ, нет транспонирование"
   ]
  },
  {
   "cell_type": "code",
   "execution_count": 117,
   "metadata": {},
   "outputs": [],
   "source": [
    "g2v = graph2vec(n_categories, num_neighbors, num_eigenvectors, \n",
    "                rnn_hidden, net_hidden, center_eigenvectors=True, description_node = True, abs_eigenvectors = False)"
   ]
  },
  {
   "cell_type": "code",
   "execution_count": 118,
   "metadata": {},
   "outputs": [],
   "source": [
    "g2v.rnn = g2v_next.rnn"
   ]
  },
  {
   "cell_type": "code",
   "execution_count": 119,
   "metadata": {},
   "outputs": [
    {
     "name": "stderr",
     "output_type": "stream",
     "text": [
      "1 from 1:   0%|          | 0/42743 [00:00<?, ?it/s]\n"
     ]
    },
    {
     "ename": "RuntimeError",
     "evalue": "svd_cpu: the updating process of SBDSDC did not converge (error: 15)",
     "output_type": "error",
     "traceback": [
      "\u001b[0;31m---------------------------------------------------------------------------\u001b[0m",
      "\u001b[0;31mRuntimeError\u001b[0m                              Traceback (most recent call last)",
      "\u001b[0;32m<ipython-input-119-7e9d0ffc78ce>\u001b[0m in \u001b[0;36m<module>\u001b[0;34m\u001b[0m\n\u001b[1;32m      2\u001b[0m \u001b[0moptimizer\u001b[0m \u001b[0;34m=\u001b[0m \u001b[0moptim\u001b[0m\u001b[0;34m.\u001b[0m\u001b[0mAdagrad\u001b[0m\u001b[0;34m(\u001b[0m\u001b[0mg2v\u001b[0m\u001b[0;34m.\u001b[0m\u001b[0mparameters\u001b[0m\u001b[0;34m(\u001b[0m\u001b[0;34m)\u001b[0m\u001b[0;34m,\u001b[0m \u001b[0mlr\u001b[0m\u001b[0;34m=\u001b[0m\u001b[0;36m0.2\u001b[0m\u001b[0;34m)\u001b[0m\u001b[0;34m\u001b[0m\u001b[0;34m\u001b[0m\u001b[0m\n\u001b[1;32m      3\u001b[0m \u001b[0;34m\u001b[0m\u001b[0m\n\u001b[0;32m----> 4\u001b[0;31m \u001b[0mlosses\u001b[0m \u001b[0;34m=\u001b[0m \u001b[0mtrain\u001b[0m\u001b[0;34m(\u001b[0m\u001b[0mg2v\u001b[0m\u001b[0;34m,\u001b[0m \u001b[0mtrain_dataset\u001b[0m\u001b[0;34m,\u001b[0m \u001b[0mbatch_size\u001b[0m\u001b[0;34m,\u001b[0m \u001b[0;36m1\u001b[0m\u001b[0;34m,\u001b[0m \u001b[0moptimizer\u001b[0m\u001b[0;34m,\u001b[0m \u001b[0mloss\u001b[0m\u001b[0;34m)\u001b[0m\u001b[0;34m\u001b[0m\u001b[0;34m\u001b[0m\u001b[0m\n\u001b[0m\u001b[1;32m      5\u001b[0m \u001b[0;34m\u001b[0m\u001b[0m\n\u001b[1;32m      6\u001b[0m \u001b[0mplt\u001b[0m\u001b[0;34m.\u001b[0m\u001b[0mscatter\u001b[0m\u001b[0;34m(\u001b[0m\u001b[0mrange\u001b[0m\u001b[0;34m(\u001b[0m\u001b[0mlen\u001b[0m\u001b[0;34m(\u001b[0m\u001b[0mlosses\u001b[0m\u001b[0;34m[\u001b[0m\u001b[0;36m10\u001b[0m\u001b[0;34m:\u001b[0m\u001b[0;34m]\u001b[0m\u001b[0;34m)\u001b[0m\u001b[0;34m)\u001b[0m\u001b[0;34m,\u001b[0m \u001b[0mlosses\u001b[0m\u001b[0;34m[\u001b[0m\u001b[0;36m10\u001b[0m\u001b[0;34m:\u001b[0m\u001b[0;34m]\u001b[0m\u001b[0;34m)\u001b[0m\u001b[0;34m\u001b[0m\u001b[0;34m\u001b[0m\u001b[0m\n",
      "\u001b[0;32m~/Documents/IAD_caf/m1p/implementation/my_sol_new_RNN_helper.py\u001b[0m in \u001b[0;36mtrain\u001b[0;34m(model, train_dataset, batch_size, epochs, optimizer, loss)\u001b[0m\n\u001b[1;32m    135\u001b[0m                         \u001b[0;32mcontinue\u001b[0m\u001b[0;34m\u001b[0m\u001b[0;34m\u001b[0m\u001b[0m\n\u001b[1;32m    136\u001b[0m                     \u001b[0mlabels\u001b[0m\u001b[0;34m.\u001b[0m\u001b[0mappend\u001b[0m\u001b[0;34m(\u001b[0m\u001b[0mout_1\u001b[0m\u001b[0;34m[\u001b[0m\u001b[0;36m2\u001b[0m\u001b[0;34m]\u001b[0m\u001b[0;34m)\u001b[0m\u001b[0;34m\u001b[0m\u001b[0;34m\u001b[0m\u001b[0m\n\u001b[0;32m--> 137\u001b[0;31m                     \u001b[0ma\u001b[0m \u001b[0;34m=\u001b[0m \u001b[0mmodel\u001b[0m\u001b[0;34m.\u001b[0m\u001b[0mforward\u001b[0m\u001b[0;34m(\u001b[0m\u001b[0;34m*\u001b[0m\u001b[0mout_1\u001b[0m\u001b[0;34m[\u001b[0m\u001b[0;34m:\u001b[0m\u001b[0;34m-\u001b[0m\u001b[0;36m1\u001b[0m\u001b[0;34m]\u001b[0m\u001b[0;34m)\u001b[0m\u001b[0;34m\u001b[0m\u001b[0;34m\u001b[0m\u001b[0m\n\u001b[0m\u001b[1;32m    138\u001b[0m                     \u001b[0;32mif\u001b[0m \u001b[0mout\u001b[0m \u001b[0;32mis\u001b[0m \u001b[0;32mNone\u001b[0m\u001b[0;34m:\u001b[0m\u001b[0;34m\u001b[0m\u001b[0;34m\u001b[0m\u001b[0m\n\u001b[1;32m    139\u001b[0m                         \u001b[0mout\u001b[0m \u001b[0;34m=\u001b[0m \u001b[0ma\u001b[0m\u001b[0;34m\u001b[0m\u001b[0;34m\u001b[0m\u001b[0m\n",
      "\u001b[0;32m<ipython-input-4-c30430a24f2b>\u001b[0m in \u001b[0;36mforward\u001b[0;34m(self, nodes, neighbors)\u001b[0m\n\u001b[1;32m     14\u001b[0m         \u001b[0moutput\u001b[0m \u001b[0;34m=\u001b[0m \u001b[0mself\u001b[0m\u001b[0;34m.\u001b[0m\u001b[0mrnn\u001b[0m\u001b[0;34m.\u001b[0m\u001b[0mforward\u001b[0m\u001b[0;34m(\u001b[0m\u001b[0mnodes\u001b[0m\u001b[0;34m,\u001b[0m \u001b[0mneighbors\u001b[0m\u001b[0;34m)\u001b[0m\u001b[0;34m\u001b[0m\u001b[0;34m\u001b[0m\u001b[0m\n\u001b[1;32m     15\u001b[0m \u001b[0;34m\u001b[0m\u001b[0m\n\u001b[0;32m---> 16\u001b[0;31m         \u001b[0mn\u001b[0m \u001b[0;34m=\u001b[0m \u001b[0mPCA_svd\u001b[0m\u001b[0;34m(\u001b[0m\u001b[0moutput\u001b[0m\u001b[0;34m,\u001b[0m \u001b[0mg2v\u001b[0m\u001b[0;34m.\u001b[0m\u001b[0mnum_eigenvectors\u001b[0m\u001b[0;34m,\u001b[0m \u001b[0mcenter\u001b[0m\u001b[0;34m=\u001b[0m\u001b[0mself\u001b[0m\u001b[0;34m.\u001b[0m\u001b[0mcenter_eigenvectors\u001b[0m\u001b[0;34m)\u001b[0m\u001b[0;31m#['components']\u001b[0m\u001b[0;34m\u001b[0m\u001b[0;34m\u001b[0m\u001b[0m\n\u001b[0m\u001b[1;32m     17\u001b[0m         \u001b[0;32mif\u001b[0m \u001b[0mself\u001b[0m\u001b[0;34m.\u001b[0m\u001b[0mabs_eigenvectors\u001b[0m\u001b[0;34m:\u001b[0m\u001b[0;34m\u001b[0m\u001b[0;34m\u001b[0m\u001b[0m\n\u001b[1;32m     18\u001b[0m             \u001b[0mcom\u001b[0m\u001b[0;34m,\u001b[0m \u001b[0mexpv\u001b[0m \u001b[0;34m=\u001b[0m \u001b[0mn\u001b[0m\u001b[0;34m[\u001b[0m\u001b[0;34m'components'\u001b[0m\u001b[0;34m]\u001b[0m\u001b[0;34m,\u001b[0m \u001b[0mn\u001b[0m\u001b[0;34m[\u001b[0m\u001b[0;34m'explained_variance'\u001b[0m\u001b[0;34m]\u001b[0m\u001b[0;34m\u001b[0m\u001b[0;34m\u001b[0m\u001b[0m\n",
      "\u001b[0;32m~/Documents/IAD_caf/m1p/implementation/my_sol_new_RNN_helper.py\u001b[0m in \u001b[0;36mPCA_svd\u001b[0;34m(X, k, center)\u001b[0m\n\u001b[1;32m     70\u001b[0m     \u001b[0mH\u001b[0m \u001b[0;34m=\u001b[0m \u001b[0mtorch\u001b[0m\u001b[0;34m.\u001b[0m\u001b[0meye\u001b[0m\u001b[0;34m(\u001b[0m\u001b[0mn\u001b[0m\u001b[0;34m)\u001b[0m \u001b[0;34m-\u001b[0m \u001b[0mh\u001b[0m\u001b[0;34m\u001b[0m\u001b[0;34m\u001b[0m\u001b[0m\n\u001b[1;32m     71\u001b[0m     \u001b[0mX_center\u001b[0m \u001b[0;34m=\u001b[0m  \u001b[0mtorch\u001b[0m\u001b[0;34m.\u001b[0m\u001b[0mmm\u001b[0m\u001b[0;34m(\u001b[0m\u001b[0mH\u001b[0m\u001b[0;34m.\u001b[0m\u001b[0mdouble\u001b[0m\u001b[0;34m(\u001b[0m\u001b[0;34m)\u001b[0m\u001b[0;34m,\u001b[0m \u001b[0mX\u001b[0m\u001b[0;34m.\u001b[0m\u001b[0mdouble\u001b[0m\u001b[0;34m(\u001b[0m\u001b[0;34m)\u001b[0m\u001b[0;34m)\u001b[0m\u001b[0;34m\u001b[0m\u001b[0;34m\u001b[0m\u001b[0m\n\u001b[0;32m---> 72\u001b[0;31m     \u001b[0mu\u001b[0m\u001b[0;34m,\u001b[0m \u001b[0ms\u001b[0m\u001b[0;34m,\u001b[0m \u001b[0mv\u001b[0m \u001b[0;34m=\u001b[0m \u001b[0mtorch\u001b[0m\u001b[0;34m.\u001b[0m\u001b[0msvd\u001b[0m\u001b[0;34m(\u001b[0m\u001b[0mX_center\u001b[0m\u001b[0;34m)\u001b[0m\u001b[0;34m\u001b[0m\u001b[0;34m\u001b[0m\u001b[0m\n\u001b[0m\u001b[1;32m     73\u001b[0m     \u001b[0mcomponents\u001b[0m  \u001b[0;34m=\u001b[0m \u001b[0mv\u001b[0m\u001b[0;34m.\u001b[0m\u001b[0mt\u001b[0m\u001b[0;34m(\u001b[0m\u001b[0;34m)\u001b[0m\u001b[0;34m[\u001b[0m\u001b[0;34m:\u001b[0m\u001b[0mk\u001b[0m\u001b[0;34m]\u001b[0m\u001b[0;31m#v[:k]#.t()\u001b[0m\u001b[0;34m\u001b[0m\u001b[0;34m\u001b[0m\u001b[0m\n\u001b[1;32m     74\u001b[0m     \u001b[0mexplained_variance\u001b[0m \u001b[0;34m=\u001b[0m \u001b[0mtorch\u001b[0m\u001b[0;34m.\u001b[0m\u001b[0mmul\u001b[0m\u001b[0;34m(\u001b[0m\u001b[0ms\u001b[0m\u001b[0;34m[\u001b[0m\u001b[0;34m:\u001b[0m\u001b[0mk\u001b[0m\u001b[0;34m]\u001b[0m\u001b[0;34m,\u001b[0m \u001b[0ms\u001b[0m\u001b[0;34m[\u001b[0m\u001b[0;34m:\u001b[0m\u001b[0mk\u001b[0m\u001b[0;34m]\u001b[0m\u001b[0;34m)\u001b[0m\u001b[0;34m/\u001b[0m\u001b[0;34m(\u001b[0m\u001b[0mn\u001b[0m\u001b[0;34m-\u001b[0m\u001b[0;36m1\u001b[0m\u001b[0;34m)\u001b[0m\u001b[0;34m\u001b[0m\u001b[0;34m\u001b[0m\u001b[0m\n",
      "\u001b[0;31mRuntimeError\u001b[0m: svd_cpu: the updating process of SBDSDC did not converge (error: 15)"
     ]
    }
   ],
   "source": [
    "loss = nn.CrossEntropyLoss(weight=Tensor(counter / counter.sum()))\n",
    "optimizer = optim.Adagrad(g2v.parameters(), lr=0.2)\n",
    "\n",
    "losses = train(g2v, train_dataset, batch_size, 1, optimizer, loss)\n",
    "\n",
    "plt.scatter(range(len(losses[10:])), losses[10:])"
   ]
  },
  {
   "cell_type": "code",
   "execution_count": 106,
   "metadata": {},
   "outputs": [
    {
     "name": "stderr",
     "output_type": "stream",
     "text": [
      "1 from 1: 42752it [05:31, 128.95it/s]                           \n"
     ]
    }
   ],
   "source": [
    "g2v_next = graph2vec_next(g2v.rnn, n_categories)\n",
    "\n",
    "# PCA_substitute = get_eigenvectors(g2v, train_dataset, n_categories, counter)\n",
    "g2v_next.PCA_substitute = torch.eye(30)#torch.inverse(PCA_substitute) / 1000\n",
    "\n",
    "optimizer = optim.Adagrad(g2v_next.parameters(), lr=0.4)\n",
    "losses = train(g2v_next, train_dataset, batch_size, 1, optimizer, loss)"
   ]
  },
  {
   "cell_type": "code",
   "execution_count": 108,
   "metadata": {},
   "outputs": [
    {
     "data": {
      "text/plain": [
       "<matplotlib.collections.PathCollection at 0x7f64c08d8278>"
      ]
     },
     "execution_count": 108,
     "metadata": {},
     "output_type": "execute_result"
    },
    {
     "data": {
      "image/png": "[encoded data removed]",
      "text/plain": [
       "<Figure size 432x288 with 1 Axes>"
      ]
     },
     "metadata": {
      "needs_background": "light"
     },
     "output_type": "display_data"
    }
   ],
   "source": [
    "plt.scatter(range(len(losses[10:])), losses[10:])"
   ]
  },
  {
   "cell_type": "code",
   "execution_count": 104,
   "metadata": {
    "scrolled": false
   },
   "outputs": [
    {
     "data": {
      "text/plain": [
       "<matplotlib.collections.PathCollection at 0x7f64fc7a74a8>"
      ]
     },
     "execution_count": 104,
     "metadata": {},
     "output_type": "execute_result"
    },
    {
     "data": {
      "image/png": "[encoded data removed]",
      "text/plain": [
       "<Figure size 432x288 with 1 Axes>"
      ]
     },
     "metadata": {
      "needs_background": "light"
     },
     "output_type": "display_data"
    }
   ],
   "source": [
    "plt.scatter(range(len(losses)), losses)"
   ]
  },
  {
   "cell_type": "code",
   "execution_count": 109,
   "metadata": {
    "scrolled": false
   },
   "outputs": [
    {
     "ename": "TypeError",
     "evalue": "showHeatMap() takes 1 positional argument but 2 were given",
     "output_type": "error",
     "traceback": [
      "\u001b[0;31m---------------------------------------------------------------------------\u001b[0m",
      "\u001b[0;31mTypeError\u001b[0m                                 Traceback (most recent call last)",
      "\u001b[0;32m<ipython-input-109-22c4bb225d2e>\u001b[0m in \u001b[0;36m<module>\u001b[0;34m\u001b[0m\n\u001b[0;32m----> 1\u001b[0;31m \u001b[0mshowHeatMap\u001b[0m\u001b[0;34m(\u001b[0m\u001b[0mg2v_next\u001b[0m\u001b[0;34m,\u001b[0m \u001b[0mtrain_dataset\u001b[0m\u001b[0;34m)\u001b[0m\u001b[0;34m\u001b[0m\u001b[0;34m\u001b[0m\u001b[0m\n\u001b[0m",
      "\u001b[0;31mTypeError\u001b[0m: showHeatMap() takes 1 positional argument but 2 were given"
     ]
    }
   ],
   "source": [
    "showHeatMap(g2v_next, train_dataset)"
   ]
  },
  {
   "cell_type": "markdown",
   "metadata": {},
   "source": [
    "## save & load"
   ]
  },
  {
   "cell_type": "raw",
   "metadata": {},
   "source": [
    "state = {\n",
    "    'batch_size' : batch_size,\n",
    "    'state_dict': g2v.state_dict(),\n",
    "    'optimizer': optimizer.state_dict(),\n",
    "    'loss' : loss.state_dict()\n",
    "}\n",
    "torch.save(state, './model_save/model')"
   ]
  },
  {
   "cell_type": "raw",
   "metadata": {},
   "source": [
    "state = torch.load('./model_save/model')"
   ]
  }
 ],
 "metadata": {
  "kernelspec": {
   "display_name": "Python 3",
   "language": "python",
   "name": "python3"
  },
  "language_info": {
   "codemirror_mode": {
    "name": "ipython",
    "version": 3
   },
   "file_extension": ".py",
   "mimetype": "text/x-python",
   "name": "python",
   "nbconvert_exporter": "python",
   "pygments_lexer": "ipython3",
   "version": "3.6.9"
  }
 },
 "nbformat": 4,
 "nbformat_minor": 2
}
