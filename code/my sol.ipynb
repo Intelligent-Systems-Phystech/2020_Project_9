{
 "cells": [
  {
   "cell_type": "code",
   "execution_count": 2,
   "metadata": {},
   "outputs": [],
   "source": [
    "import pickle\n",
    "import numpy as np\n",
    "import matplotlib.pyplot as plt\n",
    "import pandas as pd\n",
    "import torch\n",
    "import os\n",
    "from skimage import io, transform\n",
    "import matplotlib.pyplot as plt\n",
    "from torch.utils.data import Dataset, DataLoader\n",
    "from torchvision import transforms, utils\n",
    "from torch.nn import MSELoss, Sequential, Linear, Sigmoid, Tanh, ReLU, ELU, Softmax\n",
    "import torch.nn.functional as F\n",
    "import torch.nn as nn\n",
    "from torch import Tensor\n",
    "from tqdm import tqdm\n",
    "from sklearn.metrics import accuracy_score\n",
    "import torch.optim as optim\n",
    "from sklearn.preprocessing import MinMaxScaler\n",
    "from torch.nn.utils import clip_grad_norm_\n",
    "import random\n",
    "import matplotlib.ticker as ticker\n",
    "from my_sol_helper import *\n",
    "%matplotlib inline"
   ]
  },
  {
   "cell_type": "code",
   "execution_count": 3,
   "metadata": {
    "scrolled": true
   },
   "outputs": [
    {
     "data": {
      "text/plain": [
       "array([[23.,  0.,  0.,  0.,  0.,  0.,  0.,  0.,  1.,  0.],\n",
       "       [ 1., 21.,  0.,  0.,  0.,  0.,  0.,  0.,  0.,  0.],\n",
       "       [ 0.,  0., 29.,  0.,  0.,  0.,  1.,  0.,  0.,  0.],\n",
       "       [ 0.,  1.,  1., 35.,  0.,  0.,  3.,  0.,  0.,  0.],\n",
       "       [ 0.,  0.,  0.,  0., 16.,  0.,  0.,  0.,  0.,  0.],\n",
       "       [ 0.,  0.,  0.,  0.,  0., 21.,  1.,  0.,  0.,  0.],\n",
       "       [ 1.,  2.,  1.,  1.,  1.,  0., 17.,  0.,  0.,  0.],\n",
       "       [ 0.,  1.,  0.,  0.,  1.,  0.,  0., 24.,  0.,  0.],\n",
       "       [ 0.,  1.,  0.,  0.,  0.,  0.,  2.,  0., 12.,  9.],\n",
       "       [ 0.,  3.,  0.,  0.,  3.,  1.,  0.,  3.,  0., 15.]])"
      ]
     },
     "execution_count": 3,
     "metadata": {},
     "output_type": "execute_result"
    }
   ],
   "source": [
    "confusion = np.load('confusion_file.npy')\n",
    "confusion"
   ]
  },
  {
   "cell_type": "code",
   "execution_count": 5,
   "metadata": {
    "scrolled": false
   },
   "outputs": [
    {
     "name": "stdout",
     "output_type": "stream",
     "text": [
      "accuracy: 0.8452380952380952\n"
     ]
    },
    {
     "data": {
      "image/png": "[encoded data removed]",
      "text/plain": [
       "<Figure size 720x720 with 2 Axes>"
      ]
     },
     "metadata": {
      "needs_background": "light"
     },
     "output_type": "display_data"
    }
   ],
   "source": [
    "all_categories = [str(x) for x in range(10)]\n",
    "pr = 0\n",
    "for i in range(10):\n",
    "    pr += confusion[i][i]\n",
    "\n",
    "print('accuracy:', pr/confusion.sum())\n",
    "for i in range(10):\n",
    "    confusion[i] = confusion[i] / confusion[i].sum()\n",
    "\n",
    "# Set up plot\n",
    "fig = plt.figure(figsize=(10, 10))\n",
    "ax = fig.add_subplot(111)\n",
    "cax = ax.matshow(confusion.transpose())\n",
    "fig.colorbar(cax)\n",
    "\n",
    "# Set up axes\n",
    "ax.set_xticklabels([''] + all_categories)\n",
    "ax.set_yticklabels([''] + all_categories)\n",
    "\n",
    "# Force label at every tick\n",
    "ax.xaxis.set_major_locator(ticker.MultipleLocator(1))\n",
    "ax.yaxis.set_major_locator(ticker.MultipleLocator(1))\n",
    "\n",
    "# sphinx_gallery_thumbnail_number = 2\n",
    "plt.show()"
   ]
  },
  {
   "cell_type": "raw",
   "metadata": {},
   "source": [
    "with open ('graph2vec/data/train_graphs', 'rb') as fp:\n",
    "    graphs = pickle.load(fp)"
   ]
  },
  {
   "cell_type": "code",
   "execution_count": 2,
   "metadata": {
    "scrolled": true
   },
   "outputs": [],
   "source": [
    "train_dataset = GraphEmbDataset(graph_file='graph2vec/data/train_graphs', num_neighbors = 4)\n",
    "\n",
    "# test_dataset = GraphEmbDataset(graph_file='graph2vec/data/test_graphs', num_neighbors = 4)"
   ]
  },
  {
   "cell_type": "code",
   "execution_count": 3,
   "metadata": {},
   "outputs": [],
   "source": [
    "class graph2vec(nn.Module):\n",
    "    \n",
    "    def __init__(self, num_neighbors, n_hidden, n_categories, num_eigenvectors, net_hidden, \n",
    "                 num_features = 4, num_classes = 10, center_eigenvectors = True, abs_eigenvectors = True):\n",
    "        super(graph2vec, self).__init__()\n",
    "        self.num_neighbors = num_neighbors\n",
    "        self.n_hidden = n_hidden\n",
    "        self.rnn = RNN(num_features, n_hidden, n_categories)\n",
    "        self.num_eigenvectors = num_eigenvectors\n",
    "        self.net = FCNet(n_categories * num_eigenvectors, net_hidden, num_classes)\n",
    "        self.center_eigenvectors = center_eigenvectors\n",
    "        self.abs_eigenvectors = abs_eigenvectors\n",
    "        \n",
    "    def forward(self, t):\n",
    "        hidden = self.rnn.initHidden(t.shape[0])\n",
    "        for i in range(t.shape[1]):\n",
    "            output, hidden = self.rnn(t[:,i,:], hidden)\n",
    "        n = PCA_svd(output, g2v.num_eigenvectors, center=self.center_eigenvectors)#['components']\n",
    "        if self.abs_eigenvectors:\n",
    "            com, expv = n['components'], n['explained_variance']\n",
    "            n = torch.mul(expv, com.t()).t()\n",
    "        else:\n",
    "            n = n['components']\n",
    "        out = self.net.forward(n.reshape((1, -1)).float())\n",
    "        return out\n",
    "    \n",
    "    def test(self, t):\n",
    "        with torch.no_grad():\n",
    "            hidden = self.rnn.initHidden(t.shape[0])\n",
    "            for i in range(t.shape[1]):\n",
    "                output, hidden = self.rnn(t[:,i,:], hidden)\n",
    "            n = PCA_svd(output, g2v.num_eigenvectors, center=True)#['components']\n",
    "            com, expv = n['components'], n['explained_variance']\n",
    "            n = torch.mul(expv, com.t()).t()\n",
    "            out = self.net.forward(n.reshape((1, -1)).float())\n",
    "        return out "
   ]
  },
  {
   "cell_type": "code",
   "execution_count": 4,
   "metadata": {},
   "outputs": [],
   "source": [
    "class graph2vec_next(nn.Module):\n",
    "    \n",
    "    def __init__(self, rnn, n_categories, num_classes = 10):\n",
    "        super(graph2vec_next, self).__init__()\n",
    "        self.rnn = rnn\n",
    "        self.without_PCA_linear = nn.Linear(n_categories, 15)\n",
    "        self.without_PCA_linear2 = nn.Linear(15, num_classes)\n",
    "        self.softmax = nn.LogSoftmax(dim=1)\n",
    "    \n",
    "    def forward(self, t):\n",
    "        hidden = self.rnn.initHidden(t.shape[0])\n",
    "        for i in range(t.shape[1]):\n",
    "            output, hidden = self.rnn(t[:,i,:], hidden)\n",
    "        \n",
    "        x = torch.mm(output.type_as(self.PCA_substitute), self.PCA_substitute).max(0)[0]\n",
    "        x = self.without_PCA_linear(x.float()).reshape((-1, 15))\n",
    "        x = F.relu(x)\n",
    "        x = nn.Dropout()(x)\n",
    "        x = self.without_PCA_linear2(x)\n",
    "        return self.softmax(x)\n",
    "        \n",
    "    def test(self, t):\n",
    "        with torch.no_grad():\n",
    "            hidden = self.rnn.initHidden(t.shape[0])\n",
    "            for i in range(t.shape[1]):\n",
    "                output, hidden = self.rnn(t[:,i,:], hidden)\n",
    "\n",
    "            x = torch.mm(output.type_as(self.PCA_substitute), self.PCA_substitute).max(0)[0]\n",
    "            x = self.without_PCA_linear(x.float()).reshape((-1, 15))\n",
    "            x = F.relu(x)\n",
    "            x = nn.Dropout()(x)\n",
    "            x = self.without_PCA_linear2(x)\n",
    "            out = self.softmax(x)\n",
    "        return out"
   ]
  },
  {
   "cell_type": "code",
   "execution_count": 5,
   "metadata": {},
   "outputs": [],
   "source": [
    "def get_eigenvectors(model, train_dataset, n_categories, counter):\n",
    "    evg_vectors = [torch.zeros((model.num_eigenvectors, n_categories), \n",
    "                                       dtype=torch.float64)] * 10\n",
    "    with torch.no_grad():\n",
    "        for indx in range(len(train_dataset)):\n",
    "            t, l = train_dataset.__getitem__(indx)\n",
    "            if len(t) <= 5:\n",
    "                continue\n",
    "                \n",
    "            hidden = torch.zeros(t.shape[0], model.n_hidden)\n",
    "            for i in range(t.shape[1]):\n",
    "                output, hidden = model.rnn(t[:,i,:], hidden)\n",
    "\n",
    "            n = PCA_svd(output, model.num_eigenvectors, center=True)#['components']\n",
    "            com, expv = n['components'], n['explained_variance']\n",
    "            n = torch.mul(expv, com.t()).t()\n",
    "            \n",
    "            evg_vectors[l] = evg_vectors[l] + n\n",
    "        for i, coun in enumerate(counter):\n",
    "            evg_vectors[i] = evg_vectors[i] / coun\n",
    "    \n",
    "    PCA_substitute = torch.cat(evg_vectors, 0)\n",
    "    PCA_substitute.requires_grad_(requires_grad = False)\n",
    "    return PCA_substitute"
   ]
  },
  {
   "cell_type": "markdown",
   "metadata": {},
   "source": [
    "## Распределение по классам"
   ]
  },
  {
   "cell_type": "code",
   "execution_count": 6,
   "metadata": {
    "scrolled": true
   },
   "outputs": [
    {
     "data": {
      "text/plain": [
       "<matplotlib.collections.PathCollection at 0x7f901914c358>"
      ]
     },
     "execution_count": 6,
     "metadata": {},
     "output_type": "execute_result"
    },
    {
     "data": {
      "image/png": "[encoded data removed]",
      "text/plain": [
       "<Figure size 432x288 with 1 Axes>"
      ]
     },
     "metadata": {
      "needs_background": "light"
     },
     "output_type": "display_data"
    }
   ],
   "source": [
    "counter = np.zeros(10)\n",
    "for i in range(len(train_dataset)):\n",
    "    graph, clas = train_dataset.__getitem__(i)\n",
    "    if len(graph) > 5:\n",
    "        counter[clas] +=1\n",
    "\n",
    "plt.scatter(y = counter, x = np.arange(10))"
   ]
  },
  {
   "cell_type": "markdown",
   "metadata": {},
   "source": [
    "## центрир_векоторов, есть домнож на СЧ, транспонирование"
   ]
  },
  {
   "cell_type": "code",
   "execution_count": 7,
   "metadata": {},
   "outputs": [],
   "source": [
    "batch_size = 128\n",
    "num_neighbors = 3\n",
    "n_hidden = 6\n",
    "n_categories = 30\n",
    "num_eigenvectors = 3\n",
    "net_hidden = 20\n",
    "# grads = [[]] * 8"
   ]
  },
  {
   "cell_type": "code",
   "execution_count": 13,
   "metadata": {
    "scrolled": false
   },
   "outputs": [
    {
     "name": "stderr",
     "output_type": "stream",
     "text": [
      "5 from 5: 42752it [01:40, 424.98it/s]                           \n"
     ]
    },
    {
     "data": {
      "text/plain": [
       "<matplotlib.collections.PathCollection at 0x7f9004d52e10>"
      ]
     },
     "execution_count": 13,
     "metadata": {},
     "output_type": "execute_result"
    },
    {
     "data": {
      "image/png": "[encoded data removed]",
      "text/plain": [
       "<Figure size 432x288 with 1 Axes>"
      ]
     },
     "metadata": {
      "needs_background": "light"
     },
     "output_type": "display_data"
    }
   ],
   "source": [
    "g2v = graph2vec(num_neighbors, n_hidden, n_categories, num_eigenvectors, net_hidden, \n",
    "                center_eigenvectors = True, abs_eigenvectors = True)\n",
    "\n",
    "loss = nn.CrossEntropyLoss(weight=Tensor(counter.sum() / counter))\n",
    "optimizer = optim.Adagrad(g2v.parameters(), lr=0.3)\n",
    "\n",
    "running = True\n",
    "while running:\n",
    "    try:\n",
    "        losses = train(g2v, train_dataset, batch_size, 5, optimizer, loss)\n",
    "        running = False\n",
    "    except RuntimeError :\n",
    "        pass\n",
    "    \n",
    "\n",
    "plt.scatter(range(len(losses)), losses)"
   ]
  },
  {
   "cell_type": "code",
   "execution_count": 14,
   "metadata": {},
   "outputs": [
    {
     "name": "stderr",
     "output_type": "stream",
     "text": [
      "100%|██████████| 42743/42743 [01:07<00:00, 636.17it/s] \n"
     ]
    },
    {
     "name": "stdout",
     "output_type": "stream",
     "text": [
      "accuracy: 0.4626989958363948\n"
     ]
    },
    {
     "data": {
      "image/png": "[encoded data removed]",
      "text/plain": [
       "<Figure size 720x720 with 2 Axes>"
      ]
     },
     "metadata": {
      "needs_background": "light"
     },
     "output_type": "display_data"
    }
   ],
   "source": [
    "showHeatMap(g2v, train_dataset)"
   ]
  },
  {
   "cell_type": "code",
   "execution_count": 15,
   "metadata": {},
   "outputs": [
    {
     "name": "stderr",
     "output_type": "stream",
     "text": [
      "100%|██████████| 42743/42743 [00:53<00:00, 792.67it/s] \n"
     ]
    },
    {
     "name": "stdout",
     "output_type": "stream",
     "text": [
      "accuracy: 0.4589762429586089\n"
     ]
    },
    {
     "data": {
      "image/png": "[encoded data removed]",
      "text/plain": [
       "<Figure size 720x720 with 2 Axes>"
      ]
     },
     "metadata": {
      "needs_background": "light"
     },
     "output_type": "display_data"
    }
   ],
   "source": [
    "showHeatMap(g2v, train_dataset, background = True)"
   ]
  },
  {
   "cell_type": "code",
   "execution_count": 23,
   "metadata": {},
   "outputs": [],
   "source": [
    "weights = [] # weights g2v after first learning\n",
    "for param in g2v.rnn.parameters():\n",
    "    weights.append(param.clone())"
   ]
  },
  {
   "cell_type": "code",
   "execution_count": 25,
   "metadata": {},
   "outputs": [
    {
     "name": "stderr",
     "output_type": "stream",
     "text": [
      "10 from 10: 42752it [00:42, 998.23it/s]                            \n"
     ]
    },
    {
     "data": {
      "text/plain": [
       "<matplotlib.collections.PathCollection at 0x7f8ff95267f0>"
      ]
     },
     "execution_count": 25,
     "metadata": {},
     "output_type": "execute_result"
    },
    {
     "data": {
      "image/png": "[encoded data removed]",
      "text/plain": [
       "<Figure size 432x288 with 1 Axes>"
      ]
     },
     "metadata": {
      "needs_background": "light"
     },
     "output_type": "display_data"
    }
   ],
   "source": [
    "g2v_next = graph2vec_next(g2v.rnn, n_categories)\n",
    "\n",
    "PCA_substitute = get_eigenvectors(g2v, train_dataset, n_categories, counter)\n",
    "\n",
    "g2v_next.PCA_substitute = torch.inverse(PCA_substitute.t()) / 1000\n",
    "\n",
    "optimizer = optim.Adagrad(g2v_next.parameters(), lr=0.4)\n",
    "losses = train(g2v_next, train_dataset, batch_size, 10, optimizer, loss)\n",
    "\n",
    "plt.scatter(range(len(losses[100:])), losses[100:])"
   ]
  },
  {
   "cell_type": "code",
   "execution_count": 26,
   "metadata": {
    "scrolled": false
   },
   "outputs": [
    {
     "name": "stderr",
     "output_type": "stream",
     "text": [
      "100%|██████████| 42743/42743 [00:21<00:00, 1975.16it/s]\n"
     ]
    },
    {
     "name": "stdout",
     "output_type": "stream",
     "text": [
      "accuracy: 0.10671075189811413\n"
     ]
    },
    {
     "data": {
      "image/png": "[encoded data removed]",
      "text/plain": [
       "<Figure size 720x720 with 2 Axes>"
      ]
     },
     "metadata": {
      "needs_background": "light"
     },
     "output_type": "display_data"
    }
   ],
   "source": [
    "showHeatMap(g2v_next, train_dataset)"
   ]
  },
  {
   "cell_type": "code",
   "execution_count": 27,
   "metadata": {},
   "outputs": [
    {
     "name": "stderr",
     "output_type": "stream",
     "text": [
      "100%|██████████| 42743/42743 [00:21<00:00, 1948.84it/s]\n"
     ]
    },
    {
     "name": "stdout",
     "output_type": "stream",
     "text": [
      "accuracy: 0.10673524369336272\n"
     ]
    },
    {
     "data": {
      "image/png": "[encoded data removed]",
      "text/plain": [
       "<Figure size 720x720 with 2 Axes>"
      ]
     },
     "metadata": {
      "needs_background": "light"
     },
     "output_type": "display_data"
    }
   ],
   "source": [
    "showHeatMap(g2v_next, train_dataset, background = True)"
   ]
  },
  {
   "cell_type": "markdown",
   "metadata": {},
   "source": [
    "## Save and load"
   ]
  },
  {
   "cell_type": "raw",
   "metadata": {},
   "source": [
    "state = {\n",
    "    'batch_size' : batch_size,\n",
    "    'state_dict': g2v.state_dict(),\n",
    "    'optimizer': optimizer.state_dict(),\n",
    "    'loss' : loss.state_dict()\n",
    "}\n",
    "torch.save(state, './model_save/model_64')"
   ]
  },
  {
   "cell_type": "raw",
   "metadata": {},
   "source": [
    "state = torch.load('./model_save/model')"
   ]
  }
 ],
 "metadata": {
  "kernelspec": {
   "display_name": "Python 3",
   "language": "python",
   "name": "python3"
  },
  "language_info": {
   "codemirror_mode": {
    "name": "ipython",
    "version": 3
   },
   "file_extension": ".py",
   "mimetype": "text/x-python",
   "name": "python",
   "nbconvert_exporter": "python",
   "pygments_lexer": "ipython3",
   "version": "3.6.9"
  }
 },
 "nbformat": 4,
 "nbformat_minor": 2
}
